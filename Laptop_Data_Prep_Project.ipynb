{
 "cells": [
  {
   "cell_type": "markdown",
   "metadata": {},
   "source": [
    "## I'll be working with laptops.csv, a CSV file containing information on about 1,300 laptop computers:\n",
    "#### Objectives:\n",
    " - Clean columns names\n",
    " - Extract and convert numeric values from string values\n",
    " - Extract string data\n",
    " - Work with missing values"
   ]
  },
  {
   "cell_type": "code",
   "execution_count": 30,
   "metadata": {},
   "outputs": [
    {
     "name": "stdout",
     "output_type": "stream",
     "text": [
      "<class 'pandas.core.frame.DataFrame'>\n",
      "RangeIndex: 1303 entries, 0 to 1302\n",
      "Data columns (total 13 columns):\n",
      "Manufacturer                1303 non-null object\n",
      "Model Name                  1303 non-null object\n",
      "Category                    1303 non-null object\n",
      "Screen Size                 1303 non-null object\n",
      "Screen                      1303 non-null object\n",
      "CPU                         1303 non-null object\n",
      "RAM                         1303 non-null object\n",
      " Storage                    1303 non-null object\n",
      "GPU                         1303 non-null object\n",
      "Operating System            1303 non-null object\n",
      "Operating System Version    1133 non-null object\n",
      "Weight                      1303 non-null object\n",
      "Price (Euros)               1303 non-null object\n",
      "dtypes: object(13)\n",
      "memory usage: 132.4+ KB\n"
     ]
    }
   ],
   "source": [
    "import numpy as np\n",
    "import pandas as pd\n",
    "laptops = pd.read_csv('laptops.csv', encoding='Windows-1251')\n",
    "laptops.info()"
   ]
  },
  {
   "cell_type": "markdown",
   "metadata": {},
   "source": [
    "#### Creating a function that uses Python string methods to clean column labels, and then use list comprehension to apply that function to each label"
   ]
  },
  {
   "cell_type": "code",
   "execution_count": 31,
   "metadata": {},
   "outputs": [],
   "source": [
    "def clean_col(col):\n",
    "    col = col.strip()\n",
    "    col = col.replace(\"Operating System\",\"os\")\n",
    "    col = col.replace(\" \",\"_\")\n",
    "    col = col.replace(\"(\",\"\")\n",
    "    col = col.replace(\")\",\"\")\n",
    "    col = col.lower()\n",
    "    return col\n",
    "laptops.columns = [clean_col(c) for c in laptops.columns]"
   ]
  },
  {
   "cell_type": "markdown",
   "metadata": {},
   "source": [
    "#### Converting the screen_size, ram, weight and price_euros column to numeric"
   ]
  },
  {
   "cell_type": "code",
   "execution_count": 32,
   "metadata": {},
   "outputs": [
    {
     "name": "stdout",
     "output_type": "stream",
     "text": [
      "15.6    665\n",
      "14.0    197\n",
      "13.3    164\n",
      "17.3    164\n",
      "12.5     39\n",
      "11.6     33\n",
      "13.9      6\n",
      "13.5      6\n",
      "12.0      6\n",
      "12.3      5\n",
      "15.4      4\n",
      "10.1      4\n",
      "15.0      4\n",
      "13.0      2\n",
      "18.4      1\n",
      "14.1      1\n",
      "17.0      1\n",
      "11.3      1\n",
      "Name: screen_size_inches, dtype: int64\n"
     ]
    }
   ],
   "source": [
    "laptops[\"screen_size\"] = laptops[\"screen_size\"].str.replace('\"','').astype(float)\n",
    "laptops.rename({\"screen_size\": \"screen_size_inches\"}, axis=1, inplace=True)\n",
    "laptops['ram'] = laptops['ram'].str.replace('GB','').astype(int)\n",
    "laptops.rename({'ram':'ram_gb'}, axis = 1, inplace= True)\n",
    "dtypes = laptops.dtypes\n",
    "print(laptops[\"screen_size_inches\"].value_counts())"
   ]
  },
  {
   "cell_type": "code",
   "execution_count": 33,
   "metadata": {},
   "outputs": [
    {
     "name": "stdout",
     "output_type": "stream",
     "text": [
      "2.200    126\n",
      "2.100     58\n",
      "2.000     45\n",
      "2.400     44\n",
      "2.300     41\n",
      "2.500     38\n",
      "2.800     28\n",
      "1.200     26\n",
      "1.860     25\n",
      "1.900     24\n",
      "2.040     24\n",
      "1.400     24\n",
      "2.180     23\n",
      "1.500     21\n",
      "1.600     20\n",
      "1.700     19\n",
      "1.950     18\n",
      "1.800     17\n",
      "1.300     17\n",
      "1.100     17\n",
      "3.000     16\n",
      "1.260     15\n",
      "1.360     14\n",
      "1.910     14\n",
      "1.370     13\n",
      "2.620     12\n",
      "2.600     12\n",
      "1.250     12\n",
      "2.700     12\n",
      "1.630     11\n",
      "        ... \n",
      "1.550      1\n",
      "3.520      1\n",
      "0.990      1\n",
      "2.750      1\n",
      "1.590      1\n",
      "4.500      1\n",
      "3.250      1\n",
      "1.940      1\n",
      "2.830      1\n",
      "1.140      1\n",
      "1.410      1\n",
      "4.700      1\n",
      "2.380      1\n",
      "2.191      1\n",
      "3.800      1\n",
      "2.591      1\n",
      "1.190      1\n",
      "4.400      1\n",
      "0.910      1\n",
      "3.420      1\n",
      "2.790      1\n",
      "2.990      1\n",
      "2.260      1\n",
      "2.210      1\n",
      "1.180      1\n",
      "1.310      1\n",
      "2.720      1\n",
      "3.600      1\n",
      "3.740      1\n",
      "4.330      1\n",
      "Name: weight_kg, Length: 171, dtype: int64\n"
     ]
    }
   ],
   "source": [
    "laptops[\"weight\"] =(laptops[\"weight\"].str.replace(\"kg\",\"\"))\n",
    "laptops[\"weight\"] =(laptops[\"weight\"].str.replace(\"s\",\"\"))\n",
    "laptops[\"weight\"] =(laptops[\"weight\"].astype(float))\n",
    "laptops.rename({'weight':'weight_kg'}, axis = 1, inplace= True)\n",
    "laptops['price_euros'] =(laptops['price_euros'].str.replace(',','.').astype(float))\n",
    "weight_describe = laptops['weight_kg'].describe()\n",
    "price_describe = laptops['price_euros'].describe()\n",
    "print(laptops[\"weight_kg\"].value_counts())"
   ]
  },
  {
   "cell_type": "markdown",
   "metadata": {},
   "source": [
    "#### Extracting the manufacturer name from the gpu column"
   ]
  },
  {
   "cell_type": "code",
   "execution_count": 34,
   "metadata": {},
   "outputs": [
    {
     "name": "stdout",
     "output_type": "stream",
     "text": [
      "Intel      1240\n",
      "AMD          62\n",
      "Samsung       1\n",
      "Name: cpu_manufacturer, dtype: int64\n"
     ]
    }
   ],
   "source": [
    "laptops[\"gpu_manufacturer\"] = (laptops[\"gpu\"]\n",
    "                                    .str.split(n=1,expand=True)\n",
    "                                    .iloc[:,0]\n",
    "                               )\n",
    "laptops['cpu_manufacturer'] = (laptops['cpu']\n",
    "                               .str.split(n=1,expand=True)\n",
    "                               .iloc[:,0]\n",
    "                              )\n",
    "print(laptops[\"cpu_manufacturer\"].value_counts())"
   ]
  },
  {
   "cell_type": "markdown",
   "metadata": {},
   "source": [
    "#### Extracting cpu_speed_ghz and screen_resolution"
   ]
  },
  {
   "cell_type": "code",
   "execution_count": 49,
   "metadata": {},
   "outputs": [
    {
     "name": "stdout",
     "output_type": "stream",
     "text": [
      "2.50    293\n",
      "2.70    166\n",
      "2.80    165\n",
      "1.60    134\n",
      "2.00     86\n",
      "2.30     86\n",
      "1.80     78\n",
      "2.60     76\n",
      "1.10     53\n",
      "2.40     52\n",
      "2.90     21\n",
      "3.00     19\n",
      "1.20     15\n",
      "1.44     12\n",
      "2.20     11\n",
      "1.50     10\n",
      "1.30      6\n",
      "3.60      5\n",
      "0.90      4\n",
      "2.10      3\n",
      "3.10      3\n",
      "1.90      2\n",
      "1.92      1\n",
      "1.00      1\n",
      "3.20      1\n",
      "Name: cpu_speed_ghz, dtype: int64\n",
      "1920x1080    841\n",
      "1366x768     308\n",
      "3840x2160     43\n",
      "3200x1800     27\n",
      "2560x1440     23\n",
      "1600x900      23\n",
      "2560x1600      6\n",
      "2304x1440      6\n",
      "2256x1504      6\n",
      "1920x1200      5\n",
      "2880x1800      4\n",
      "2400x1600      4\n",
      "1440x900       4\n",
      "2160x1440      2\n",
      "2736x1824      1\n",
      "Name: screen_resolution, dtype: int64\n"
     ]
    }
   ],
   "source": [
    "screen_res = laptops[\"screen\"].str.rsplit(n=1, expand=True)\n",
    "screen_res.columns = [\"A\", \"B\"]\n",
    "screen_res.loc[screen_res[\"B\"].isnull(), \"B\"] = screen_res[\"A\"]\n",
    "laptops[\"screen_resolution\"] = screen_res[\"B\"]\n",
    "laptops['cpu_speed_ghz']=(laptops['cpu']\n",
    "                          .str.replace('GHz','')\n",
    "                          .str.rsplit(n=1, expand = True)\n",
    "                          .iloc[:,1].astype(float)\n",
    "                         )\n",
    "print(laptops[\"cpu_speed_ghz\"].value_counts())\n",
    "print(laptops[\"screen_resolution\"].value_counts())"
   ]
  },
  {
   "cell_type": "markdown",
   "metadata": {},
   "source": [
    "#### Correcting values in the os column"
   ]
  },
  {
   "cell_type": "code",
   "execution_count": 35,
   "metadata": {},
   "outputs": [],
   "source": [
    "mapping_dict = {\n",
    "    'Android': 'Android',\n",
    "    'Chrome OS': 'Chrome OS',\n",
    "    'Linux': 'Linux',\n",
    "    'Mac OS': 'macOS',\n",
    "    'No OS': 'No OS',\n",
    "    'Windows': 'Windows',\n",
    "    'macOS': 'macOS'\n",
    "}\n",
    "laptops['os'] = laptops['os'].map(mapping_dict)"
   ]
  },
  {
   "cell_type": "markdown",
   "metadata": {},
   "source": [
    "#### Removing rows and columns from the laptops dataframe that have null values"
   ]
  },
  {
   "cell_type": "code",
   "execution_count": 36,
   "metadata": {},
   "outputs": [],
   "source": [
    "laptops_no_null_rows = laptops.dropna(axis = 0)\n",
    "laptops_no_null_cols = laptops.dropna(axis = 1)"
   ]
  },
  {
   "cell_type": "markdown",
   "metadata": {},
   "source": [
    "#### Assigning the value Version Unknown to the os_version column with value No OS"
   ]
  },
  {
   "cell_type": "code",
   "execution_count": 37,
   "metadata": {},
   "outputs": [],
   "source": [
    "value_counts_before = laptops.loc[laptops[\"os_version\"].isnull(), \"os\"].value_counts()\n",
    "laptops.loc[laptops[\"os\"] == \"macOS\", \"os_version\"] = \"X\"\n",
    "laptops.loc[laptops['os'] == 'No OS','os_version'] = 'Version Unknown'\n",
    "value_counts_after = laptops.loc[laptops[\"os_version\"].isnull(), \"os\"].value_counts()"
   ]
  },
  {
   "cell_type": "markdown",
   "metadata": {},
   "source": [
    "#### Cleaning the Storage Column"
   ]
  },
  {
   "cell_type": "code",
   "execution_count": 38,
   "metadata": {},
   "outputs": [],
   "source": [
    "laptops['storage'] =(laptops['storage'].str.replace('+',''))\n",
    "laptops['storage'] = (laptops['storage'].str.replace('  ',''))\n",
    "laptops['storage'] = (laptops['storage'].str.replace('GB',''))\n",
    "laptops['storage'] = (laptops['storage'].str.replace('TB','000'))\n",
    "laptops['storage'] = (laptops['storage'].str.replace('Flash Storage','Flash_Storage'))\n",
    "storage_1_capacity_gb = (laptops['storage']\n",
    "                          .str.split(n=1, expand = True)\n",
    "                          .iloc[:,0]\n",
    "                         )\n",
    "storage_1_type = (laptops['storage']\n",
    "                          .str.split(n=2, expand = True)\n",
    "                          .iloc[:,1]\n",
    "                         )\n",
    "storage_1_type = (storage_1_type.str.replace('Flash_Storage','Flash Storage'))\n",
    "storage_2_capacity_gb = (laptops['storage']\n",
    "                          .str.split(n=3, expand = True)\n",
    "                          .iloc[:,2]\n",
    "                         )\n",
    "storage_2_type = (laptops['storage']\n",
    "                          .str.split(n=4, expand = True)\n",
    "                          .iloc[:,3]\n",
    "                         )\n",
    "laptops['storage_1_capacity_gb'] = storage_1_capacity_gb.astype(float)\n",
    "laptops['storage_1_type'] = storage_1_type\n",
    "laptops['storage_2_capacity_gb'] = storage_2_capacity_gb.astype(float)\n",
    "laptops['storage_2_type'] = storage_2_type\n",
    "laptops.drop([\"storage\"], axis=1, inplace=True)"
   ]
  },
  {
   "cell_type": "markdown",
   "metadata": {},
   "source": [
    "#### Re-ordering the columns and saving the cleaned CSV"
   ]
  },
  {
   "cell_type": "code",
   "execution_count": 50,
   "metadata": {},
   "outputs": [],
   "source": [
    "laptops_dtypes = laptops.dtypes\n",
    "cols = ['manufacturer', 'model_name', 'category', 'screen_size_inches',\n",
    "        'screen', 'cpu', 'cpu_manufacturer', 'screen_resolution', 'cpu_speed_ghz', 'ram_gb',\n",
    "        'storage_1_type', 'storage_1_capacity_gb', 'storage_2_type',\n",
    "        'storage_2_capacity_gb', 'gpu', 'gpu_manufacturer', 'os',\n",
    "        'os_version', 'weight_kg', 'price_euros']\n",
    "laptops = laptops[cols]\n",
    "laptops.to_csv('laptops_cleaned.csv',index=False)\n",
    "laptops_cleaned = pd.read_csv('laptops_cleaned.csv')\n",
    "laptops_cleaned_dtypes = laptops_cleaned.dtypes"
   ]
  }
 ],
 "metadata": {
  "kernelspec": {
   "display_name": "Python 3",
   "language": "python",
   "name": "python3"
  },
  "language_info": {
   "codemirror_mode": {
    "name": "ipython",
    "version": 3
   },
   "file_extension": ".py",
   "mimetype": "text/x-python",
   "name": "python",
   "nbconvert_exporter": "python",
   "pygments_lexer": "ipython3",
   "version": "3.7.1"
  }
 },
 "nbformat": 4,
 "nbformat_minor": 2
}
